{
  "nbformat": 4,
  "nbformat_minor": 0,
  "metadata": {
    "colab": {
      "provenance": [],
      "authorship_tag": "ABX9TyNv9ObjBPukxoLQIal/4zz3",
      "include_colab_link": true
    },
    "kernelspec": {
      "name": "python3",
      "display_name": "Python 3"
    },
    "language_info": {
      "name": "python"
    }
  },
  "cells": [
    {
      "cell_type": "markdown",
      "metadata": {
        "id": "view-in-github",
        "colab_type": "text"
      },
      "source": [
        "<a href=\"https://colab.research.google.com/github/rajeevrpandey/High-Accuracy-CNN-for-MNIST/blob/main/High_Accuracy_CNN_for_MNIST.ipynb\" target=\"_parent\"><img src=\"https://colab.research.google.com/assets/colab-badge.svg\" alt=\"Open In Colab\"/></a>"
      ]
    },
    {
      "cell_type": "markdown",
      "source": [],
      "metadata": {
        "id": "l-igTI-JufnK"
      }
    },
    {
      "cell_type": "code",
      "source": [
        "import tensorflow as tf\n",
        "from tensorflow import keras\n",
        "import numpy as np\n",
        "import matplotlib as mpl\n",
        "import matplotlib.pyplot as plt"
      ],
      "metadata": {
        "id": "bxkADE87gd1Z"
      },
      "execution_count": 1,
      "outputs": []
    },
    {
      "cell_type": "code",
      "execution_count": 2,
      "metadata": {
        "id": "mULz_40RgIE0"
      },
      "outputs": [],
      "source": [
        "# Load the MNIST dataset (handwritten digits 0-9)\n",
        "(X_train_full, y_train_full), (X_test, y_test) = keras.datasets.mnist.load_data()\n",
        "# Normalize pixel values to the range [0,1] for better training performance\n",
        "X_train_full = X_train_full / 255.\n",
        "X_test = X_test / 255.\n",
        "# Split the training data into training (55,000 samples) and validation (5,000 samples) sets\n",
        "X_train, X_valid = X_train_full[:-5000], X_train_full[-5000:]\n",
        "y_train, y_valid = y_train_full[:-5000], y_train_full[-5000:]\n",
        "\n",
        "# Expand the dimensions to match the expected input shape for Conv2D (adding channel dimension)\n",
        "X_train = X_train[..., np.newaxis]\n",
        "X_valid = X_valid[..., np.newaxis]\n",
        "X_test = X_test[..., np.newaxis]"
      ]
    },
    {
      "cell_type": "code",
      "source": [
        "# Clear the previous session to free memory (useful when running multiple models in a script)\n",
        "keras.backend.clear_session()\n",
        "# Set random seeds for reproducibility\n",
        "tf.random.set_seed(42)\n",
        "np.random.seed(42)"
      ],
      "metadata": {
        "id": "FVCZwooAgrJO"
      },
      "execution_count": 3,
      "outputs": []
    },
    {
      "cell_type": "code",
      "source": [
        "# Build a Convolutional Neural Network (CNN) model\n",
        "model = keras.models.Sequential([\n",
        "    # First convolutional layer: 32 filters, 3x3 kernel, ReLU activation, 'same' padding\n",
        "    keras.layers.Conv2D(32, kernel_size=3, padding=\"same\", activation=\"relu\"),\n",
        "    # Second convolutional layer: 64 filters, 3x3 kernel, ReLU activation, 'same' padding\n",
        "    keras.layers.Conv2D(64, kernel_size=3, padding=\"same\", activation=\"relu\"),\n",
        "    # Max pooling layer: Reduces spatial dimensions (downsampling)\n",
        "    keras.layers.MaxPool2D(),\n",
        "    # Flatten layer: Converts 2D feature maps into a 1D feature vector\n",
        "    keras.layers.Flatten(),\n",
        "    # Dropout layer (25%): Helps prevent overfitting by randomly deactivating neurons\n",
        "    keras.layers.Dropout(0.25),\n",
        "    # Fully connected dense layer with 128 neurons and ReLU activation\n",
        "    keras.layers.Dense(128, activation=\"relu\"),\n",
        "    # Dropout layer (50%): Further regularization to prevent overfitting\n",
        "    keras.layers.Dropout(0.5),\n",
        "    # Output layer: 10 neurons (one for each digit), softmax activation for classification\n",
        "    keras.layers.Dense(10, activation=\"softmax\")\n",
        "])"
      ],
      "metadata": {
        "id": "e0VAtmvQgxYG"
      },
      "execution_count": 4,
      "outputs": []
    },
    {
      "cell_type": "code",
      "source": [
        "# Compile the model with categorical cross-entropy loss, Nadam optimizer, and accuracy metric\n",
        "model.compile(loss=\"sparse_categorical_crossentropy\", optimizer=\"nadam\",\n",
        "              metrics=[\"accuracy\"])"
      ],
      "metadata": {
        "id": "luvTLEreg2Gx"
      },
      "execution_count": 5,
      "outputs": []
    },
    {
      "cell_type": "code",
      "source": [
        "# Train the model for 10 epochs using the training set and validate on the validation set\n",
        "model.fit(X_train, y_train, epochs=10, validation_data=(X_valid, y_valid))\n",
        "# Evaluate the model on the test set to measure final performance\n",
        "model.evaluate(X_test, y_test)"
      ],
      "metadata": {
        "colab": {
          "base_uri": "https://localhost:8080/"
        },
        "id": "uWVRWhrJg53w",
        "outputId": "2fc2eed6-1c13-409a-98dc-8a1bff55c28c"
      },
      "execution_count": 6,
      "outputs": [
        {
          "output_type": "stream",
          "name": "stdout",
          "text": [
            "Epoch 1/10\n",
            "\u001b[1m1719/1719\u001b[0m \u001b[32m━━━━━━━━━━━━━━━━━━━━\u001b[0m\u001b[37m\u001b[0m \u001b[1m193s\u001b[0m 111ms/step - accuracy: 0.8781 - loss: 0.3912 - val_accuracy: 0.9868 - val_loss: 0.0537\n",
            "Epoch 2/10\n",
            "\u001b[1m1719/1719\u001b[0m \u001b[32m━━━━━━━━━━━━━━━━━━━━\u001b[0m\u001b[37m\u001b[0m \u001b[1m200s\u001b[0m 110ms/step - accuracy: 0.9729 - loss: 0.0936 - val_accuracy: 0.9882 - val_loss: 0.0415\n",
            "Epoch 3/10\n",
            "\u001b[1m1719/1719\u001b[0m \u001b[32m━━━━━━━━━━━━━━━━━━━━\u001b[0m\u001b[37m\u001b[0m \u001b[1m189s\u001b[0m 110ms/step - accuracy: 0.9794 - loss: 0.0672 - val_accuracy: 0.9888 - val_loss: 0.0439\n",
            "Epoch 4/10\n",
            "\u001b[1m1719/1719\u001b[0m \u001b[32m━━━━━━━━━━━━━━━━━━━━\u001b[0m\u001b[37m\u001b[0m \u001b[1m203s\u001b[0m 110ms/step - accuracy: 0.9844 - loss: 0.0538 - val_accuracy: 0.9896 - val_loss: 0.0417\n",
            "Epoch 5/10\n",
            "\u001b[1m1719/1719\u001b[0m \u001b[32m━━━━━━━━━━━━━━━━━━━━\u001b[0m\u001b[37m\u001b[0m \u001b[1m200s\u001b[0m 110ms/step - accuracy: 0.9859 - loss: 0.0460 - val_accuracy: 0.9912 - val_loss: 0.0386\n",
            "Epoch 6/10\n",
            "\u001b[1m1719/1719\u001b[0m \u001b[32m━━━━━━━━━━━━━━━━━━━━\u001b[0m\u001b[37m\u001b[0m \u001b[1m204s\u001b[0m 111ms/step - accuracy: 0.9873 - loss: 0.0411 - val_accuracy: 0.9918 - val_loss: 0.0389\n",
            "Epoch 7/10\n",
            "\u001b[1m1719/1719\u001b[0m \u001b[32m━━━━━━━━━━━━━━━━━━━━\u001b[0m\u001b[37m\u001b[0m \u001b[1m201s\u001b[0m 110ms/step - accuracy: 0.9888 - loss: 0.0353 - val_accuracy: 0.9920 - val_loss: 0.0394\n",
            "Epoch 8/10\n",
            "\u001b[1m1719/1719\u001b[0m \u001b[32m━━━━━━━━━━━━━━━━━━━━\u001b[0m\u001b[37m\u001b[0m \u001b[1m203s\u001b[0m 110ms/step - accuracy: 0.9903 - loss: 0.0321 - val_accuracy: 0.9916 - val_loss: 0.0427\n",
            "Epoch 9/10\n",
            "\u001b[1m1719/1719\u001b[0m \u001b[32m━━━━━━━━━━━━━━━━━━━━\u001b[0m\u001b[37m\u001b[0m \u001b[1m190s\u001b[0m 110ms/step - accuracy: 0.9900 - loss: 0.0297 - val_accuracy: 0.9922 - val_loss: 0.0358\n",
            "Epoch 10/10\n",
            "\u001b[1m1719/1719\u001b[0m \u001b[32m━━━━━━━━━━━━━━━━━━━━\u001b[0m\u001b[37m\u001b[0m \u001b[1m202s\u001b[0m 111ms/step - accuracy: 0.9915 - loss: 0.0263 - val_accuracy: 0.9922 - val_loss: 0.0439\n",
            "\u001b[1m313/313\u001b[0m \u001b[32m━━━━━━━━━━━━━━━━━━━━\u001b[0m\u001b[37m\u001b[0m \u001b[1m9s\u001b[0m 29ms/step - accuracy: 0.9889 - loss: 0.0414\n"
          ]
        },
        {
          "output_type": "execute_result",
          "data": {
            "text/plain": [
              "[0.03417564928531647, 0.9915000200271606]"
            ]
          },
          "metadata": {},
          "execution_count": 6
        }
      ]
    },
    {
      "cell_type": "code",
      "source": [],
      "metadata": {
        "id": "p7_Uj2VCg-Lw"
      },
      "execution_count": 6,
      "outputs": []
    }
  ]
}